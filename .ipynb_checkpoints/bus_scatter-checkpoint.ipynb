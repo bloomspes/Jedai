{
 "cells": [
  {
   "cell_type": "code",
   "execution_count": 19,
   "metadata": {},
   "outputs": [],
   "source": [
    "import pandas as pd\n",
    "import matplotlib.pyplot as plt\n",
    "import matplotlib.font_manager as fm\n",
    "import numpy as np\n",
    "from matplotlib import rc, font_manager"
   ]
  },
  {
   "cell_type": "code",
   "execution_count": null,
   "metadata": {},
   "outputs": [],
   "source": [
    "bus = pd.read_csv('bus_bts.csv')\n",
    "\n",
    "# 폰트 설정\n",
    "path = 'NanumBarunGothic.oft'\n",
    "font_prop = fm.FontProperties(fname=path, size=12)\n",
    "\n",
    "list = []\n",
    "\n",
    "x = bus['geton_station_code']\n",
    "\n",
    "exp = np.mean(x)\n",
    "var = sum((x - numpy.mean(x))**2)/5\n",
    "\n",
    "# 변수 i에 분산 var(x) 곱하기\n",
    "for i in range(0, 200):\n",
    "    list.append(i * var)\n",
    "    \n",
    "# histogram 만들기\n",
    "plt.hist(bus['geton_station_code'])\n",
    "plt.show"
   ]
  },
  {
   "cell_type": "code",
   "execution_count": null,
   "metadata": {},
   "outputs": [],
   "source": []
  }
 ],
 "metadata": {
  "kernelspec": {
   "display_name": "Python 3",
   "language": "python",
   "name": "python3"
  },
  "language_info": {
   "codemirror_mode": {
    "name": "ipython",
    "version": 3
   },
   "file_extension": ".py",
   "mimetype": "text/x-python",
   "name": "python",
   "nbconvert_exporter": "python",
   "pygments_lexer": "ipython3",
   "version": "3.6.5"
  }
 },
 "nbformat": 4,
 "nbformat_minor": 2
}
